{
 "cells": [
  {
   "cell_type": "code",
   "execution_count": 1,
   "metadata": {},
   "outputs": [],
   "source": [
    "import numpy as np\n",
    "import pandas as pd\n",
    "import csv\n",
    "import warnings\n",
    "import time\n",
    "import matplotlib.pyplot as plt\n",
    "from sklearn.model_selection import train_test_split, cross_val_score\n",
    "from sklearn.metrics import confusion_matrix, accuracy_score\n",
    "from sklearn.model_selection import learning_curve"
   ]
  },
  {
   "cell_type": "code",
   "execution_count": 2,
   "metadata": {},
   "outputs": [],
   "source": [
    "# Load in all ML models\n",
    "from sklearn.tree import DecisionTreeClassifier \n",
    "from sklearn.svm import SVC \n",
    "from sklearn.neighbors import KNeighborsClassifier\n",
    "from sklearn.naive_bayes import GaussianNB \n",
    "from sklearn.neural_network import MLPClassifier\n",
    "from sklearn.linear_model import LogisticRegression\n",
    "from sklearn.ensemble import RandomForestClassifier\n",
    "from sklearn.linear_model import LinearRegression, Ridge, Lasso"
   ]
  },
  {
   "cell_type": "code",
   "execution_count": 3,
   "metadata": {},
   "outputs": [],
   "source": [
    "warnings.filterwarnings('ignore')\n",
    "pd.set_option('display.max_colwidth', -1)"
   ]
  },
  {
   "cell_type": "code",
   "execution_count": 4,
   "metadata": {},
   "outputs": [],
   "source": [
    "# Load all data in\n",
    "data_dir = './data'\n",
    "train_data_raw = pd.read_csv(data_dir + '/train.csv')\n",
    "train_label_raw = pd.read_csv(data_dir + '/train_labels.csv')\n",
    "test_data_raw = pd.read_csv(data_dir + '/test.csv')\n",
    "specs = pd.read_csv(data_dir + '/specs.csv')"
   ]
  },
  {
   "cell_type": "code",
   "execution_count": 5,
   "metadata": {},
   "outputs": [],
   "source": [
    "# Extract Assessment data for training and test\n",
    "train_data_raw = train_data_raw[train_data_raw['type'] == 'Assessment'].reset_index(drop=True)\n",
    "test_data_raw = test_data_raw[test_data_raw['type'] == 'Assessment'].reset_index(drop=True)"
   ]
  },
  {
   "cell_type": "code",
   "execution_count": 6,
   "metadata": {},
   "outputs": [
    {
     "name": "stdout",
     "output_type": "stream",
     "text": [
      "Train data size:  (925345, 11)\n",
      "Test data size:  (102627, 11)\n"
     ]
    }
   ],
   "source": [
    "print('Train data size: ', train_data_raw.shape)\n",
    "print('Test data size: ', test_data_raw.shape)"
   ]
  },
  {
   "cell_type": "code",
   "execution_count": 7,
   "metadata": {},
   "outputs": [],
   "source": [
    "# Preprocess train data\n",
    "preprocess_train_data = pd.DataFrame()\n",
    "ids_list = list(train_label_raw['installation_id'].unique())\n",
    "sessions_list = list(train_label_raw['game_session'].unique())\n",
    "for k, group in train_data_raw.groupby(['installation_id', 'game_session']):\n",
    "    if group['installation_id'].iloc[0] in ids_list and group['game_session'].iloc[0] in sessions_list:\n",
    "        df = group.sort_values(by=['event_count', 'game_time'])\n",
    "        event_count = int(df['event_count'].iloc[-1])\n",
    "        duration = int(df['game_time'].iloc[-1])\n",
    "        installation_id = df['installation_id'].iloc[0]\n",
    "        game_session = df['game_session'].iloc[0]\n",
    "        title = df['title'].iloc[0]\n",
    "        game_type = df['type'].iloc[0]\n",
    "        world = df['world'].iloc[0]\n",
    "        avg_event_code = df['event_code'].astype(np.int64).sum() / event_count\n",
    "        intersec = train_label_raw[(train_label_raw['installation_id'] == installation_id) & \n",
    "                                    (train_label_raw['game_session'] == game_session)]\n",
    "        accuracy_group = intersec['accuracy_group'].iloc[0]\n",
    "        num_correct = intersec['num_correct'].iloc[0]\n",
    "        num_incorrect = intersec['num_incorrect'].iloc[0]\n",
    "        accuracy = intersec['accuracy'].iloc[0]\n",
    "        preprocess_train_data = preprocess_train_data.append(pd.DataFrame({'installation_id': [installation_id], \n",
    "                                         'game_session': [game_session],\n",
    "                                         'event_count': [event_count], \n",
    "                                         'duration': [duration],                                        \n",
    "                                         'title': [title],\n",
    "                                         'type': [game_type],\n",
    "                                         'world': [world],\n",
    "                                         'avg_event_code': [avg_event_code],\n",
    "                                         'num_correct': [num_correct],\n",
    "                                         'num_incorrect': [num_incorrect],\n",
    "                                         'accuracy': [accuracy],\n",
    "                                         'accuracy_group': [accuracy_group]}), ignore_index=True)  "
   ]
  },
  {
   "cell_type": "code",
   "execution_count": 8,
   "metadata": {},
   "outputs": [],
   "source": [
    "# Convert categorical feature into numerical feature\n",
    "def title_to_numeric(x):\n",
    "    if x=='Mushroom Sorter (Assessment)':\n",
    "        return 1\n",
    "    if x=='Bird Measurer (Assessment)':\n",
    "        return 2\n",
    "    if x=='Cauldron Filler (Assessment)':\n",
    "        return 3\n",
    "    if x=='Chest Sorter (Assessment)':\n",
    "        return 4\n",
    "    if x=='Cart Balancer (Assessment)':\n",
    "        return 5"
   ]
  },
  {
   "cell_type": "code",
   "execution_count": 9,
   "metadata": {},
   "outputs": [],
   "source": [
    "# Convert categorical feature into numerical feature\n",
    "def world_to_numeric(x):\n",
    "    if x=='TREETOPCITY':\n",
    "        return 1\n",
    "    if x=='MAGMAPEAK':\n",
    "        return 2\n",
    "    if x=='CRYSTALCAVES':\n",
    "        return 3"
   ]
  },
  {
   "cell_type": "code",
   "execution_count": 10,
   "metadata": {},
   "outputs": [],
   "source": [
    "preprocess_train_data['title_num'] = preprocess_train_data['title'].apply(title_to_numeric)\n",
    "preprocess_train_data['world_num'] = preprocess_train_data['world'].apply(world_to_numeric)"
   ]
  },
  {
   "cell_type": "code",
   "execution_count": 11,
   "metadata": {},
   "outputs": [],
   "source": [
    "# Feature extraction\n",
    "X = preprocess_train_data[['event_count', 'avg_event_code',\n",
    "                           'duration', 'title_num', 'world_num']]\n",
    "y = preprocess_train_data['accuracy_group']"
   ]
  },
  {
   "cell_type": "code",
   "execution_count": 12,
   "metadata": {},
   "outputs": [],
   "source": [
    "# Normalize the raw data\n",
    "from sklearn.preprocessing import StandardScaler\n",
    "scaler = StandardScaler()\n",
    "X = scaler.fit_transform(X)"
   ]
  },
  {
   "cell_type": "code",
   "execution_count": 13,
   "metadata": {},
   "outputs": [
    {
     "data": {
      "text/plain": [
       "array([[-3.91580541e-01, -9.26186107e-01, -2.77176467e-02,\n",
       "        -1.41716289e+00, -1.18050206e+00],\n",
       "       [ 1.06932660e+00,  9.64199447e-01, -2.00573658e-05,\n",
       "        -7.28494057e-01, -1.18050206e+00],\n",
       "       [-2.63537560e-02, -1.89000527e-01, -2.22698216e-02,\n",
       "        -1.41716289e+00, -1.18050206e+00],\n",
       "       ...,\n",
       "       [ 3.38873029e-01, -6.32931888e-02, -8.95758058e-03,\n",
       "        -3.98252242e-02, -4.05336425e-02],\n",
       "       [ 1.35027028e+00,  1.43189605e+00,  1.40428550e-02,\n",
       "        -1.41716289e+00, -1.18050206e+00],\n",
       "       [ 1.12551534e+00,  4.68475713e-01,  3.50238813e-03,\n",
       "        -3.98252242e-02, -4.05336425e-02]])"
      ]
     },
     "execution_count": 13,
     "metadata": {},
     "output_type": "execute_result"
    }
   ],
   "source": [
    "X"
   ]
  },
  {
   "cell_type": "code",
   "execution_count": 14,
   "metadata": {},
   "outputs": [],
   "source": [
    "# Get train and test data\n",
    "X_train, X_val, y_train, y_val = train_test_split(X, y, test_size=0.30, random_state=42)"
   ]
  },
  {
   "cell_type": "code",
   "execution_count": 15,
   "metadata": {},
   "outputs": [
    {
     "name": "stdout",
     "output_type": "stream",
     "text": [
      "(12383, 5) (12383,) (5307, 5) (5307,)\n"
     ]
    }
   ],
   "source": [
    "print(X_train.shape, y_train.shape, X_val.shape, y_val.shape)"
   ]
  },
  {
   "cell_type": "markdown",
   "metadata": {},
   "source": [
    "##########################################################\n",
    "Approach1: Classification problem, compare different classification models performance"
   ]
  },
  {
   "cell_type": "code",
   "execution_count": 16,
   "metadata": {},
   "outputs": [],
   "source": [
    "# Store all results into list for later plotting\n",
    "clf = ['Logistic Regression', 'Decision Tree', 'Random Forest','Linear SVM', 'RBF SVM', \n",
    "       'KNN', 'Gaussian Naive Bayes', 'MLP']\n",
    "acc = []\n",
    "training_time = []\n",
    "pred_time = []"
   ]
  },
  {
   "cell_type": "code",
   "execution_count": 17,
   "metadata": {},
   "outputs": [
    {
     "name": "stdout",
     "output_type": "stream",
     "text": [
      "Logistic Regression accuracy:  0.6401921989824759\n",
      "Logistics Regression confusion matrix: \n",
      "\n",
      "[[2395    0   15  228]\n",
      " [ 477    0   18  175]\n",
      " [ 257    0  204  266]\n",
      " [ 372    0  115  785]]\n",
      "\n",
      "\n",
      "Training time:  0.26880717277526855\n",
      "Prediction time:  0.0005266666412353516\n"
     ]
    }
   ],
   "source": [
    "# Training a Logistic Regression classifier and predict\n",
    "# k-fold cross validation accuracy\n",
    "k = 5\n",
    "lr_model = LogisticRegression(random_state=0)\n",
    "scores = cross_val_score(lr_model, X, y, cv=k)\n",
    "avg_score = sum(scores) / len(scores)\n",
    "print('Logistic Regression accuracy: ', avg_score)\n",
    "\n",
    "# Compute confusion matrix \n",
    "start_train = time.time()\n",
    "lr_model = LogisticRegression(random_state=0).fit(X_train, y_train)\n",
    "tt = time.time() - start_train\n",
    "start_pred = time.time()\n",
    "lr_pred = lr_model.predict(X_val) \n",
    "pt = time.time() - start_pred\n",
    "cm = confusion_matrix(y_val, lr_pred, labels=[3, 2, 1, 0]) \n",
    "print('Logistics Regression confusion matrix: \\n')\n",
    "print(cm)\n",
    "print('\\n')\n",
    "print('Training time: ', tt)\n",
    "print('Prediction time: ', pt)\n",
    "\n",
    "# Append all results to list\n",
    "acc.append(avg_score)\n",
    "training_time.append(tt)\n",
    "pred_time.append(pt)"
   ]
  },
  {
   "cell_type": "code",
   "execution_count": 18,
   "metadata": {},
   "outputs": [
    {
     "name": "stdout",
     "output_type": "stream",
     "text": [
      "Decision Tree accuracy:  0.6119276427360091\n",
      "Decision Tree confusion matrix: \n",
      "\n",
      "[[2088    0  249  301]\n",
      " [ 223    0  267  180]\n",
      " [  35    0  314  378]\n",
      " [ 301    0  111  860]]\n",
      "\n",
      "\n",
      "Training time:  0.00863194465637207\n",
      "Prediction time:  0.0004973411560058594\n"
     ]
    }
   ],
   "source": [
    "# Training a Decision-Tree classifier and predict\n",
    "# k-fold cross validation accuracy\n",
    "k = 5\n",
    "dtree_model = DecisionTreeClassifier(max_depth = 2)\n",
    "scores = cross_val_score(dtree_model, X, y, cv=k)\n",
    "avg_score = sum(scores) / len(scores)\n",
    "print('Decision Tree accuracy: ', avg_score)\n",
    "\n",
    "# Compute confusion matrix \n",
    "start_train = time.time()\n",
    "dtree_model = DecisionTreeClassifier(max_depth = 2).fit(X_train, y_train)\n",
    "tt = time.time() - start_train\n",
    "start_pred = time.time()\n",
    "dtree_pred = dtree_model.predict(X_val) \n",
    "pt = time.time() - start_pred\n",
    "cm = confusion_matrix(y_val, dtree_pred, labels=[3, 2, 1, 0]) \n",
    "print('Decision Tree confusion matrix: \\n')\n",
    "print(cm)\n",
    "print('\\n')\n",
    "print('Training time: ', tt)\n",
    "print('Prediction time: ', pt)\n",
    "\n",
    "# Append all results to list\n",
    "acc.append(avg_score)\n",
    "training_time.append(tt)\n",
    "pred_time.append(pt)"
   ]
  },
  {
   "cell_type": "code",
   "execution_count": 19,
   "metadata": {},
   "outputs": [
    {
     "name": "stdout",
     "output_type": "stream",
     "text": [
      "Random Forest accuracy:  0.6226116449971737\n",
      "Random Forest confusion matrix: \n",
      "\n",
      "[[2482    0   18  138]\n",
      " [ 466    0   38  166]\n",
      " [ 209    0  126  392]\n",
      " [ 565    0   25  682]]\n",
      "\n",
      "\n",
      "Training time:  0.4677102565765381\n",
      "Prediction time:  0.03390979766845703\n"
     ]
    }
   ],
   "source": [
    "# Training a Random Forest classifier and predict\n",
    "# k-fold cross validation accuracy\n",
    "k = 5\n",
    "rf_model = RandomForestClassifier(max_depth=2, random_state=0)\n",
    "scores = cross_val_score(rf_model, X, y, cv=k)\n",
    "avg_score = sum(scores) / len(scores)\n",
    "print('Random Forest accuracy: ', avg_score)\n",
    "\n",
    "# Compute confusion matrix \n",
    "start_train = time.time()\n",
    "rf_model = RandomForestClassifier(max_depth=2, random_state=0).fit(X_train, y_train)\n",
    "tt = time.time() - start_train\n",
    "start_pred = time.time()\n",
    "rf_pred = rf_model.predict(X_val) \n",
    "pt = time.time() - start_pred\n",
    "cm = confusion_matrix(y_val, rf_pred, labels=[3, 2, 1, 0]) \n",
    "print('Random Forest confusion matrix: \\n')\n",
    "print(cm)\n",
    "print('\\n')\n",
    "print('Training time: ', tt)\n",
    "print('Prediction time: ', pt)\n",
    "\n",
    "# Append all results to list\n",
    "acc.append(avg_score)\n",
    "training_time.append(tt)\n",
    "pred_time.append(pt)"
   ]
  },
  {
   "cell_type": "code",
   "execution_count": 20,
   "metadata": {},
   "outputs": [
    {
     "name": "stdout",
     "output_type": "stream",
     "text": [
      "Linear SVM accuracy:  0.654663651780667\n",
      "Linear SVM confusion matrix: \n",
      "\n",
      "[[2379    0   28  231]\n",
      " [ 465    0   43  162]\n",
      " [ 205    0  266  256]\n",
      " [ 338    0  132  802]]\n",
      "\n",
      "\n",
      "Training time:  3.5913007259368896\n",
      "Prediction time:  0.40244126319885254\n"
     ]
    }
   ],
   "source": [
    "# Training a linear SVM classifier and predict  \n",
    "# k-fold cross validation accuracy\n",
    "k = 5\n",
    "svm_model_linear = SVC(kernel = 'linear', C = 1)\n",
    "scores = cross_val_score(svm_model_linear, X, y, cv=k)\n",
    "avg_score = sum(scores) / len(scores)\n",
    "print('Linear SVM accuracy: ', avg_score)\n",
    "\n",
    "# Compute confusion matrix \n",
    "start_train = time.time()\n",
    "svm_model_linear = SVC(kernel = 'linear', C = 1).fit(X_train, y_train)\n",
    "tt = time.time() - start_train\n",
    "start_pred = time.time()\n",
    "svm_pred = svm_model_linear.predict(X_val)\n",
    "pt = time.time() - start_pred\n",
    "cm = confusion_matrix(y_val, svm_pred, labels=[3, 2, 1, 0]) \n",
    "print('Linear SVM confusion matrix: \\n')\n",
    "print(cm)\n",
    "print('\\n')\n",
    "print('Training time: ', tt)\n",
    "print('Prediction time: ', pt)\n",
    "\n",
    "# Append all results to list\n",
    "acc.append(avg_score)\n",
    "training_time.append(tt)\n",
    "pred_time.append(pt)"
   ]
  },
  {
   "cell_type": "code",
   "execution_count": 21,
   "metadata": {},
   "outputs": [
    {
     "name": "stdout",
     "output_type": "stream",
     "text": [
      "RBF SVM accuracy:  0.7416054267947993\n",
      "RBF SVM confusion matrix: \n",
      "\n",
      "[[2400   18   22  198]\n",
      " [ 412   98   49  111]\n",
      " [  84   64  478  101]\n",
      " [ 149    8  135  980]]\n",
      "\n",
      "\n",
      "Training time:  3.4336941242218018\n",
      "Prediction time:  0.9338765144348145\n"
     ]
    }
   ],
   "source": [
    "# Training a RBF SVM classifier and predict  \n",
    "# k-fold cross validation accuracy\n",
    "k = 5\n",
    "svm_model_rbf = SVC(kernel = 'rbf', C = 1)\n",
    "scores = cross_val_score(svm_model_rbf, X, y, cv=k)\n",
    "avg_score = sum(scores) / len(scores)\n",
    "print('RBF SVM accuracy: ', avg_score)\n",
    "\n",
    "# Compute confusion matrix \n",
    "start_train = time.time()\n",
    "svm_model_rbf = SVC(kernel = 'rbf', C = 1).fit(X_train, y_train)\n",
    "tt = time.time() - start_train\n",
    "start_pred = time.time()\n",
    "svm_pred = svm_model_rbf.predict(X_val)\n",
    "pt = time.time() - start_pred\n",
    "cm = confusion_matrix(y_val, svm_pred, labels=[3, 2, 1, 0]) \n",
    "print('RBF SVM confusion matrix: \\n')\n",
    "print(cm)\n",
    "print('\\n')\n",
    "print('Training time: ', tt)\n",
    "print('Prediction time: ', pt)\n",
    "\n",
    "# Append all results to list\n",
    "acc.append(avg_score)\n",
    "training_time.append(tt)\n",
    "pred_time.append(pt)"
   ]
  },
  {
   "cell_type": "code",
   "execution_count": 22,
   "metadata": {},
   "outputs": [
    {
     "name": "stdout",
     "output_type": "stream",
     "text": [
      "KNN accuracy:  0.7790842283776145\n",
      "KNN confusion matrix: \n",
      "\n",
      "[[2347  123   38  130]\n",
      " [ 177  329   87   77]\n",
      " [  36   88  507   96]\n",
      " [ 134   44  142  952]]\n",
      "\n",
      "\n",
      "Training time:  0.014512062072753906\n",
      "Prediction time:  0.14300060272216797\n"
     ]
    }
   ],
   "source": [
    "# Training a KNN classifier and predict \n",
    "# k-fold cross validation accuracy\n",
    "k = 5\n",
    "knn_model = KNeighborsClassifier(n_neighbors = 5)\n",
    "scores = cross_val_score(knn_model, X, y, cv=k)\n",
    "avg_score = sum(scores) / len(scores)\n",
    "print('KNN accuracy: ', avg_score)\n",
    "\n",
    "# Compute confusion matrix \n",
    "start_train = time.time()\n",
    "knn_model = KNeighborsClassifier(n_neighbors = 5).fit(X_train, y_train) \n",
    "tt = time.time() - start_train\n",
    "start_pred = time.time()\n",
    "knn_pred = knn_model.predict(X_val)\n",
    "pt = time.time() - start_pred\n",
    "cm = confusion_matrix(y_val, knn_pred, labels=[3, 2, 1, 0]) \n",
    "print('KNN confusion matrix: \\n')\n",
    "print(cm)\n",
    "print('\\n')\n",
    "print('Training time: ', tt)\n",
    "print('Prediction time: ', pt)\n",
    "\n",
    "# Append all results to list\n",
    "acc.append(avg_score)\n",
    "training_time.append(tt)\n",
    "pred_time.append(pt)"
   ]
  },
  {
   "cell_type": "code",
   "execution_count": 23,
   "metadata": {},
   "outputs": [
    {
     "name": "stdout",
     "output_type": "stream",
     "text": [
      "Gaussian Naive Bayes accuracy:  0.5565856416054268\n",
      "Gaussian Naive Bayes confusion matrix: \n",
      "\n",
      "[[2531   46    7   54]\n",
      " [ 548   32    2   88]\n",
      " [ 272   93   26  336]\n",
      " [ 736   53   33  450]]\n",
      "\n",
      "\n",
      "Training time:  0.004103183746337891\n",
      "Prediction time:  0.001737356185913086\n"
     ]
    }
   ],
   "source": [
    "# Training a Naive Bayes classifier and predict \n",
    "# k-fold cross validation accuracy\n",
    "k = 5\n",
    "gnb_model = GaussianNB()\n",
    "scores = cross_val_score(gnb_model, X, y, cv=k)\n",
    "avg_score = sum(scores) / len(scores)\n",
    "print('Gaussian Naive Bayes accuracy: ', avg_score)\n",
    "  \n",
    "# creating a confusion matrix \n",
    "start_train = time.time()\n",
    "gnb_model = GaussianNB().fit(X_train, y_train) \n",
    "tt = time.time() - start_train\n",
    "start_pred = time.time()\n",
    "gnb_pred = gnb_model.predict(X_val)\n",
    "pt = time.time() - start_pred\n",
    "cm = confusion_matrix(y_val, gnb_pred, labels=[3, 2, 1, 0]) \n",
    "print('Gaussian Naive Bayes confusion matrix: \\n')\n",
    "print(cm)\n",
    "print('\\n')\n",
    "print('Training time: ', tt)\n",
    "print('Prediction time: ', pt)\n",
    "\n",
    "# Append all results to list\n",
    "acc.append(avg_score)\n",
    "training_time.append(tt)\n",
    "pred_time.append(pt)"
   ]
  },
  {
   "cell_type": "code",
   "execution_count": 24,
   "metadata": {},
   "outputs": [
    {
     "name": "stdout",
     "output_type": "stream",
     "text": [
      "MLP accuracy:  0.761447145279819\n",
      "MLP confusion matrix: \n",
      "\n",
      "[[ 953  178   13  128]\n",
      " [  69  540   79   39]\n",
      " [  90   98  176  306]\n",
      " [ 187   34   82 2335]]\n",
      "\n",
      "\n",
      "Training time:  3.0266871452331543\n",
      "Prediction time:  0.0032248497009277344\n"
     ]
    }
   ],
   "source": [
    "# Training a MLP classifier and predict\n",
    "# k-fold cross validation accuracy\n",
    "k = 5\n",
    "mlp_model = MLPClassifier(solver='lbfgs', alpha=1e-3, hidden_layer_sizes=(20, 4), random_state=1)\n",
    "scores = cross_val_score(mlp_model, X, y, cv=k)\n",
    "avg_score = sum(scores) / len(scores)\n",
    "print('MLP accuracy: ', avg_score)\n",
    "\n",
    "# Compute confusion matrix\n",
    "start_train = time.time()\n",
    "mlp_model = MLPClassifier(solver='lbfgs', alpha=1e-3, \n",
    "                          hidden_layer_sizes=(20, 4), random_state=1).fit(X_train, y_train)\n",
    "tt = time.time() - start_train\n",
    "start_pred = time.time()\n",
    "mlp_pred = mlp_model.predict(X_val)\n",
    "pt = time.time() - start_pred\n",
    "cm = confusion_matrix(y_val, mlp_pred)\n",
    "print('MLP confusion matrix: \\n')\n",
    "print(cm)\n",
    "print('\\n')\n",
    "print('Training time: ', tt)\n",
    "print('Prediction time: ', pt)\n",
    "\n",
    "# Append all results to list\n",
    "acc.append(avg_score)\n",
    "training_time.append(tt)\n",
    "pred_time.append(pt)"
   ]
  },
  {
   "cell_type": "code",
   "execution_count": 25,
   "metadata": {},
   "outputs": [
    {
     "data": {
      "image/png": "[encoded data removed]",
      "text/plain": [
       "<Figure size 432x288 with 1 Axes>"
      ]
     },
     "metadata": {
      "needs_background": "light"
     },
     "output_type": "display_data"
    }
   ],
   "source": [
    "# Plot accuracy results\n",
    "x = np.arange(len(clf))\n",
    "plt.barh(x, acc, 0.5)\n",
    "plt.yticks(x, clf)\n",
    "plt.title('Model Accuracy')\n",
    "plt.xlabel('Accuracy')\n",
    "plt.savefig('accuracy.jpg')\n",
    "plt.show()"
   ]
  },
  {
   "cell_type": "code",
   "execution_count": 26,
   "metadata": {},
   "outputs": [
    {
     "data": {
      "image/png": "[encoded data removed]",
      "text/plain": [
       "<Figure size 432x288 with 1 Axes>"
      ]
     },
     "metadata": {
      "needs_background": "light"
     },
     "output_type": "display_data"
    }
   ],
   "source": [
    "# Plot training time results\n",
    "x = np.arange(len(clf))\n",
    "plt.barh(x, training_time, 0.5)\n",
    "plt.yticks(x, clf)\n",
    "plt.title('Model training time')\n",
    "plt.xlabel('Time (/seconds)')\n",
    "plt.savefig('training_time.jpg')\n",
    "plt.show()"
   ]
  },
  {
   "cell_type": "code",
   "execution_count": 27,
   "metadata": {},
   "outputs": [
    {
     "data": {
      "image/png": "[encoded data removed]",
      "text/plain": [
       "<Figure size 432x288 with 1 Axes>"
      ]
     },
     "metadata": {
      "needs_background": "light"
     },
     "output_type": "display_data"
    }
   ],
   "source": [
    "# Plot prediction time results\n",
    "x = np.arange(len(clf))\n",
    "plt.barh(x, pred_time, 0.5)\n",
    "plt.yticks(x, clf)\n",
    "plt.title('Model prediction time')\n",
    "plt.xlabel('Time (/seconds)')\n",
    "plt.savefig('prediction_time.jpg')\n",
    "plt.show()"
   ]
  },
  {
   "cell_type": "code",
   "execution_count": 28,
   "metadata": {},
   "outputs": [
    {
     "name": "stdout",
     "output_type": "stream",
     "text": [
      "1NN accuracy:  0.7708875070661391\n",
      "3NN accuracy:  0.7794234030525721\n",
      "5NN accuracy:  0.7790842283776145\n",
      "7NN accuracy:  0.7752402487280949\n",
      "9NN accuracy:  0.7741661955907293\n",
      "11NN accuracy:  0.7739966082532505\n"
     ]
    }
   ],
   "source": [
    "# Training KNN classifiers and tune the hyperparameters\n",
    "# k-fold cross validation accuracy\n",
    "l = [1, 3, 5, 7, 9, 11]\n",
    "for k in l:\n",
    "    knn_model = KNeighborsClassifier(n_neighbors = k)\n",
    "    scores = cross_val_score(knn_model, X, y, cv=5)\n",
    "    avg_score = sum(scores) / len(scores)\n",
    "    print(str(k) + 'NN accuracy: ', avg_score)"
   ]
  },
  {
   "cell_type": "code",
   "execution_count": 29,
   "metadata": {},
   "outputs": [
    {
     "name": "stdout",
     "output_type": "stream",
     "text": [
      "MLP accuracy with 5 neurons hidden layer: 0.7296\n",
      "MLP accuracy with 10 neurons hidden layer: 0.7462\n",
      "MLP accuracy with 20 neurons hidden layer: 0.7614\n",
      "MLP accuracy with 50 neurons hidden layer: 0.7559\n",
      "MLP accuracy with 100 neurons hidden layer: 0.7693\n",
      "MLP accuracy with 200 neurons hidden layer: 0.7713\n"
     ]
    }
   ],
   "source": [
    "# Training MLP classifiers and tune the hyperparameters\n",
    "# k-fold cross validation accuracy\n",
    "l = [5, 10, 20, 50, 100, 200]\n",
    "for h in l:\n",
    "    mlp_model = MLPClassifier(solver='lbfgs', alpha=1e-3, hidden_layer_sizes=(h, 4), random_state=1)\n",
    "    scores = cross_val_score(mlp_model, X, y, cv=5)\n",
    "    avg_score = sum(scores) / len(scores)\n",
    "    print('MLP accuracy with %d neurons hidden layer: %.4f' % (h, avg_score))"
   ]
  },
  {
   "cell_type": "code",
   "execution_count": 30,
   "metadata": {},
   "outputs": [
    {
     "data": {
      "image/png": "[encoded data removed]",
      "text/plain": [
       "<Figure size 432x288 with 1 Axes>"
      ]
     },
     "metadata": {
      "needs_background": "light"
     },
     "output_type": "display_data"
    }
   ],
   "source": [
    "# Create CV training and test scores for various training set sizes\n",
    "train_sizes, train_scores, test_scores = learning_curve(mlp_model, \n",
    "                                                        X, \n",
    "                                                        y,\n",
    "                                                        # Number of folds in cross-validation\n",
    "                                                        cv=5,\n",
    "                                                        # Evaluation metric\n",
    "                                                        scoring='accuracy',\n",
    "                                                        # Use all computer cores\n",
    "                                                        n_jobs=-1, \n",
    "                                                        # 50 different sizes of the training set\n",
    "                                                        train_sizes=np.linspace(0.01, 1.0, 50))\n",
    "\n",
    "# Create means and standard deviations of training set scores\n",
    "train_mean = np.mean(train_scores, axis=1)\n",
    "train_std = np.std(train_scores, axis=1)\n",
    "\n",
    "# Create means and standard deviations of test set scores\n",
    "test_mean = np.mean(test_scores, axis=1)\n",
    "test_std = np.std(test_scores, axis=1)\n",
    "\n",
    "# Draw lines\n",
    "plt.plot(train_sizes, train_mean, '--', color=\"#111111\",  label=\"Training score\")\n",
    "plt.plot(train_sizes, test_mean, color=\"#111111\", label=\"Cross-validation score\")\n",
    "\n",
    "# Draw bands\n",
    "plt.fill_between(train_sizes, train_mean - train_std, train_mean + train_std, color=\"#DDDDDD\")\n",
    "plt.fill_between(train_sizes, test_mean - test_std, test_mean + test_std, color=\"#DDDDDD\")\n",
    "\n",
    "# Create plot\n",
    "plt.title(\"Learning Curve\")\n",
    "plt.xlabel(\"Training Set Size\"), plt.ylabel(\"Accuracy\"), plt.legend(loc=\"best\")\n",
    "plt.tight_layout()\n",
    "plt.savefig('learning_curve.jpg')\n",
    "plt.show()"
   ]
  },
  {
   "cell_type": "code",
   "execution_count": 31,
   "metadata": {},
   "outputs": [],
   "source": [
    "# Preprocess test data\n",
    "preprocess_test_data = pd.DataFrame()\n",
    "for k, group in test_data_raw.groupby(['installation_id', 'game_session']):\n",
    "    df = group.sort_values(by=['event_count', 'game_time'])\n",
    "    event_count = int(df['event_count'].iloc[-1])\n",
    "    duration = int(df['game_time'].iloc[-1])\n",
    "    installation_id = df['installation_id'].iloc[0]\n",
    "    game_session = df['game_session'].iloc[0]\n",
    "    title = df['title'].iloc[0]\n",
    "    game_type = df['type'].iloc[0]\n",
    "    world = df['world'].iloc[0]\n",
    "    avg_event_code = df['event_code'].astype(np.int64).sum() / event_count\n",
    "    preprocess_test_data = preprocess_test_data.append(pd.DataFrame({'installation_id': [installation_id], \n",
    "                                     'game_session': [game_session],\n",
    "                                     'event_count': [event_count], \n",
    "                                     'duration': [duration],                                        \n",
    "                                     'title': [title],\n",
    "                                     'type': [game_type],\n",
    "                                     'world': [world],\n",
    "                                     'avg_event_code': [avg_event_code]}), ignore_index=True)  "
   ]
  },
  {
   "cell_type": "code",
   "execution_count": 32,
   "metadata": {},
   "outputs": [],
   "source": [
    "# Convert categorical features to numeric\n",
    "preprocess_test_data['title_num'] = preprocess_test_data['title'].apply(title_to_numeric)\n",
    "preprocess_test_data['world_num'] = preprocess_test_data['world'].apply(world_to_numeric)"
   ]
  },
  {
   "cell_type": "code",
   "execution_count": 33,
   "metadata": {},
   "outputs": [],
   "source": [
    "# Feature extraction\n",
    "X_test = preprocess_test_data[['event_count', 'avg_event_code',\n",
    "                           'duration', 'title_num', 'world_num']]\n",
    "info = preprocess_test_data[['installation_id', 'game_session']]"
   ]
  },
  {
   "cell_type": "code",
   "execution_count": 34,
   "metadata": {},
   "outputs": [
    {
     "data": {
      "text/html": [
       "<div>\n",
       "<style scoped>\n",
       "    .dataframe tbody tr th:only-of-type {\n",
       "        vertical-align: middle;\n",
       "    }\n",
       "\n",
       "    .dataframe tbody tr th {\n",
       "        vertical-align: top;\n",
       "    }\n",
       "\n",
       "    .dataframe thead th {\n",
       "        text-align: right;\n",
       "    }\n",
       "</style>\n",
       "<table border=\"1\" class=\"dataframe\">\n",
       "  <thead>\n",
       "    <tr style=\"text-align: right;\">\n",
       "      <th></th>\n",
       "      <th>event_count</th>\n",
       "      <th>avg_event_code</th>\n",
       "      <th>duration</th>\n",
       "      <th>title_num</th>\n",
       "      <th>world_num</th>\n",
       "    </tr>\n",
       "  </thead>\n",
       "  <tbody>\n",
       "    <tr>\n",
       "      <th>0</th>\n",
       "      <td>1</td>\n",
       "      <td>2000.000000</td>\n",
       "      <td>0</td>\n",
       "      <td>3</td>\n",
       "      <td>2</td>\n",
       "    </tr>\n",
       "    <tr>\n",
       "      <th>1</th>\n",
       "      <td>26</td>\n",
       "      <td>3506.038462</td>\n",
       "      <td>30038</td>\n",
       "      <td>5</td>\n",
       "      <td>3</td>\n",
       "    </tr>\n",
       "    <tr>\n",
       "      <th>2</th>\n",
       "      <td>36</td>\n",
       "      <td>3271.972222</td>\n",
       "      <td>36926</td>\n",
       "      <td>3</td>\n",
       "      <td>2</td>\n",
       "    </tr>\n",
       "    <tr>\n",
       "      <th>3</th>\n",
       "      <td>1</td>\n",
       "      <td>2000.000000</td>\n",
       "      <td>0</td>\n",
       "      <td>5</td>\n",
       "      <td>3</td>\n",
       "    </tr>\n",
       "    <tr>\n",
       "      <th>4</th>\n",
       "      <td>51</td>\n",
       "      <td>3462.803922</td>\n",
       "      <td>38746</td>\n",
       "      <td>1</td>\n",
       "      <td>1</td>\n",
       "    </tr>\n",
       "  </tbody>\n",
       "</table>\n",
       "</div>"
      ],
      "text/plain": [
       "   event_count  avg_event_code  duration  title_num  world_num\n",
       "0  1            2000.000000     0         3          2        \n",
       "1  26           3506.038462     30038     5          3        \n",
       "2  36           3271.972222     36926     3          2        \n",
       "3  1            2000.000000     0         5          3        \n",
       "4  51           3462.803922     38746     1          1        "
      ]
     },
     "execution_count": 34,
     "metadata": {},
     "output_type": "execute_result"
    }
   ],
   "source": [
    "X_test.head()"
   ]
  },
  {
   "cell_type": "code",
   "execution_count": 35,
   "metadata": {},
   "outputs": [],
   "source": [
    "# Apply MLP model for prediction\n",
    "mlp_model = MLPClassifier(solver='lbfgs', alpha=1e-3, hidden_layer_sizes=(200, 4), random_state=1)\n",
    "mlp_model.fit(X, y)\n",
    "X_test = scaler.transform(X_test)\n",
    "y_pred = mlp_model.predict(X_test)"
   ]
  },
  {
   "cell_type": "code",
   "execution_count": 36,
   "metadata": {},
   "outputs": [],
   "source": [
    "info['accuracy_group'] = y_pred"
   ]
  },
  {
   "cell_type": "code",
   "execution_count": 37,
   "metadata": {},
   "outputs": [
    {
     "data": {
      "text/html": [
       "<div>\n",
       "<style scoped>\n",
       "    .dataframe tbody tr th:only-of-type {\n",
       "        vertical-align: middle;\n",
       "    }\n",
       "\n",
       "    .dataframe tbody tr th {\n",
       "        vertical-align: top;\n",
       "    }\n",
       "\n",
       "    .dataframe thead th {\n",
       "        text-align: right;\n",
       "    }\n",
       "</style>\n",
       "<table border=\"1\" class=\"dataframe\">\n",
       "  <thead>\n",
       "    <tr style=\"text-align: right;\">\n",
       "      <th></th>\n",
       "      <th>installation_id</th>\n",
       "      <th>game_session</th>\n",
       "      <th>accuracy_group</th>\n",
       "    </tr>\n",
       "  </thead>\n",
       "  <tbody>\n",
       "    <tr>\n",
       "      <th>0</th>\n",
       "      <td>00abaee7</td>\n",
       "      <td>348d7f09f96af313</td>\n",
       "      <td>0</td>\n",
       "    </tr>\n",
       "    <tr>\n",
       "      <th>1</th>\n",
       "      <td>00abaee7</td>\n",
       "      <td>8b38fc0d2fd315dc</td>\n",
       "      <td>3</td>\n",
       "    </tr>\n",
       "    <tr>\n",
       "      <th>2</th>\n",
       "      <td>01242218</td>\n",
       "      <td>009c890ce6c4f3e3</td>\n",
       "      <td>3</td>\n",
       "    </tr>\n",
       "    <tr>\n",
       "      <th>3</th>\n",
       "      <td>01242218</td>\n",
       "      <td>1fef5d54cb4b775a</td>\n",
       "      <td>0</td>\n",
       "    </tr>\n",
       "    <tr>\n",
       "      <th>4</th>\n",
       "      <td>01242218</td>\n",
       "      <td>31423dbcd717919e</td>\n",
       "      <td>2</td>\n",
       "    </tr>\n",
       "  </tbody>\n",
       "</table>\n",
       "</div>"
      ],
      "text/plain": [
       "  installation_id      game_session  accuracy_group\n",
       "0  00abaee7        348d7f09f96af313  0             \n",
       "1  00abaee7        8b38fc0d2fd315dc  3             \n",
       "2  01242218        009c890ce6c4f3e3  3             \n",
       "3  01242218        1fef5d54cb4b775a  0             \n",
       "4  01242218        31423dbcd717919e  2             "
      ]
     },
     "execution_count": 37,
     "metadata": {},
     "output_type": "execute_result"
    }
   ],
   "source": [
    "info.head()"
   ]
  },
  {
   "cell_type": "code",
   "execution_count": 38,
   "metadata": {},
   "outputs": [],
   "source": [
    "# Formatting output\n",
    "output = pd.DataFrame()\n",
    "for k, group in info.groupby(['installation_id']):\n",
    "    installation_id = group['installation_id'].iloc[0]\n",
    "    avg_acc_group = round(group['accuracy_group'].sum() / group.shape[0])\n",
    "    output = output.append(pd.DataFrame({'installation_id': [installation_id],\n",
    "                                         'accuracy_group': [avg_acc_group]}), ignore_index=True)"
   ]
  },
  {
   "cell_type": "code",
   "execution_count": 39,
   "metadata": {},
   "outputs": [],
   "source": [
    "output['accuracy_group'] = output['accuracy_group'].astype(np.int64)"
   ]
  },
  {
   "cell_type": "code",
   "execution_count": 40,
   "metadata": {},
   "outputs": [
    {
     "data": {
      "text/html": [
       "<div>\n",
       "<style scoped>\n",
       "    .dataframe tbody tr th:only-of-type {\n",
       "        vertical-align: middle;\n",
       "    }\n",
       "\n",
       "    .dataframe tbody tr th {\n",
       "        vertical-align: top;\n",
       "    }\n",
       "\n",
       "    .dataframe thead th {\n",
       "        text-align: right;\n",
       "    }\n",
       "</style>\n",
       "<table border=\"1\" class=\"dataframe\">\n",
       "  <thead>\n",
       "    <tr style=\"text-align: right;\">\n",
       "      <th></th>\n",
       "      <th>installation_id</th>\n",
       "      <th>accuracy_group</th>\n",
       "    </tr>\n",
       "  </thead>\n",
       "  <tbody>\n",
       "    <tr>\n",
       "      <th>0</th>\n",
       "      <td>00abaee7</td>\n",
       "      <td>2</td>\n",
       "    </tr>\n",
       "    <tr>\n",
       "      <th>1</th>\n",
       "      <td>01242218</td>\n",
       "      <td>2</td>\n",
       "    </tr>\n",
       "    <tr>\n",
       "      <th>2</th>\n",
       "      <td>017c5718</td>\n",
       "      <td>0</td>\n",
       "    </tr>\n",
       "    <tr>\n",
       "      <th>3</th>\n",
       "      <td>01a44906</td>\n",
       "      <td>0</td>\n",
       "    </tr>\n",
       "    <tr>\n",
       "      <th>4</th>\n",
       "      <td>01bc6cb6</td>\n",
       "      <td>0</td>\n",
       "    </tr>\n",
       "  </tbody>\n",
       "</table>\n",
       "</div>"
      ],
      "text/plain": [
       "  installation_id  accuracy_group\n",
       "0  00abaee7        2             \n",
       "1  01242218        2             \n",
       "2  017c5718        0             \n",
       "3  01a44906        0             \n",
       "4  01bc6cb6        0             "
      ]
     },
     "execution_count": 40,
     "metadata": {},
     "output_type": "execute_result"
    }
   ],
   "source": [
    "output.head()"
   ]
  },
  {
   "cell_type": "code",
   "execution_count": 41,
   "metadata": {},
   "outputs": [
    {
     "data": {
      "text/plain": [
       "(1000, 2)"
      ]
     },
     "execution_count": 41,
     "metadata": {},
     "output_type": "execute_result"
    }
   ],
   "source": [
    "output.shape"
   ]
  },
  {
   "cell_type": "code",
   "execution_count": 42,
   "metadata": {},
   "outputs": [
    {
     "data": {
      "text/plain": [
       "0    536\n",
       "2    295\n",
       "1    165\n",
       "3    4  \n",
       "Name: accuracy_group, dtype: int64"
      ]
     },
     "execution_count": 42,
     "metadata": {},
     "output_type": "execute_result"
    }
   ],
   "source": [
    "# Count predicted labels\n",
    "output['accuracy_group'].value_counts()"
   ]
  },
  {
   "cell_type": "code",
   "execution_count": 43,
   "metadata": {},
   "outputs": [],
   "source": [
    "output.to_csv('submission.csv')"
   ]
  },
  {
   "cell_type": "markdown",
   "metadata": {},
   "source": [
    "###################################################################\n",
    "Approach2: Apply regression model to predict num_incorrect and classification \n",
    "model to predict num_correct; use these two columns to calculate \n",
    "the accuracy_group.\n",
    "###################################################################"
   ]
  },
  {
   "cell_type": "code",
   "execution_count": 44,
   "metadata": {},
   "outputs": [],
   "source": [
    "X = preprocess_train_data[['event_count', 'avg_event_code', 'duration', 'title_num', 'world_num']]\n",
    "y1 = preprocess_train_data['num_correct']\n",
    "y2 = preprocess_train_data['num_incorrect']\n",
    "y = preprocess_train_data['accuracy_group']"
   ]
  },
  {
   "cell_type": "code",
   "execution_count": 45,
   "metadata": {},
   "outputs": [],
   "source": [
    "# Normalize the raw data\n",
    "from sklearn.preprocessing import StandardScaler\n",
    "scaler = StandardScaler()\n",
    "X = scaler.fit_transform(X)"
   ]
  },
  {
   "cell_type": "code",
   "execution_count": 46,
   "metadata": {},
   "outputs": [
    {
     "name": "stdout",
     "output_type": "stream",
     "text": [
      "KNN confusion matrix: \n",
      "\n",
      "[[ 3362   867]\n",
      " [  496 12965]]\n",
      "0.9229508196721311\n"
     ]
    }
   ],
   "source": [
    "# Training a KNN classifier and predict \n",
    "\n",
    "knn_model = KNeighborsClassifier(n_neighbors = 5).fit(X, y1) \n",
    "\n",
    "knn_pred = knn_model.predict(X)\n",
    "\n",
    "cm = confusion_matrix(y1, knn_pred, labels=[0, 1]) \n",
    "print('KNN confusion matrix: \\n')\n",
    "print(cm)\n",
    "print(accuracy_score(y1, knn_pred))"
   ]
  },
  {
   "cell_type": "code",
   "execution_count": 47,
   "metadata": {},
   "outputs": [],
   "source": [
    "reg = Lasso(alpha=0.01).fit(X, y2)\n",
    "reg_pred = reg.predict(X)"
   ]
  },
  {
   "cell_type": "code",
   "execution_count": 48,
   "metadata": {},
   "outputs": [
    {
     "data": {
      "text/plain": [
       "0.473957260273483"
      ]
     },
     "execution_count": 48,
     "metadata": {},
     "output_type": "execute_result"
    }
   ],
   "source": [
    "reg.score(X, y2)"
   ]
  },
  {
   "cell_type": "code",
   "execution_count": 49,
   "metadata": {},
   "outputs": [
    {
     "data": {
      "text/plain": [
       "array([ 2.10735685,  0.00441341,  0.00756751,  0.18061818, -0.        ])"
      ]
     },
     "execution_count": 49,
     "metadata": {},
     "output_type": "execute_result"
    }
   ],
   "source": [
    "reg.coef_"
   ]
  },
  {
   "cell_type": "code",
   "execution_count": 50,
   "metadata": {},
   "outputs": [],
   "source": [
    "corr_pred = knn_model.predict(X)\n",
    "incorr_pred = reg.predict(X)"
   ]
  },
  {
   "cell_type": "code",
   "execution_count": 51,
   "metadata": {},
   "outputs": [],
   "source": [
    "incorr_pred = np.round(incorr_pred)"
   ]
  },
  {
   "cell_type": "code",
   "execution_count": 52,
   "metadata": {},
   "outputs": [
    {
     "data": {
      "text/plain": [
       "array([1., 4., 1., ..., 2., 4., 4.])"
      ]
     },
     "execution_count": 52,
     "metadata": {},
     "output_type": "execute_result"
    }
   ],
   "source": [
    "incorr_pred"
   ]
  },
  {
   "cell_type": "code",
   "execution_count": 53,
   "metadata": {},
   "outputs": [],
   "source": [
    "y_pred = []"
   ]
  },
  {
   "cell_type": "code",
   "execution_count": 54,
   "metadata": {},
   "outputs": [],
   "source": [
    "for i in range(len(corr_pred)):\n",
    "    if list(corr_pred)[i] == 0:\n",
    "        y_pred.append(0)\n",
    "    else:\n",
    "        if list(incorr_pred)[i] >= 2:\n",
    "            y_pred.append(1)\n",
    "        elif list(incorr_pred)[i] == 1:\n",
    "            y_pred.append(2)\n",
    "        else:\n",
    "            y_pred.append(3)"
   ]
  },
  {
   "cell_type": "code",
   "execution_count": 55,
   "metadata": {},
   "outputs": [],
   "source": [
    "y_pred = np.array(y_pred)"
   ]
  },
  {
   "cell_type": "code",
   "execution_count": 56,
   "metadata": {},
   "outputs": [],
   "source": [
    "cm = confusion_matrix(y, y_pred, labels=[3, 2, 1, 0]) "
   ]
  },
  {
   "cell_type": "code",
   "execution_count": 57,
   "metadata": {},
   "outputs": [
    {
     "data": {
      "text/plain": [
       "array([[3320, 4559,  740,  226],\n",
       "       [ 131, 1057,  918,   99],\n",
       "       [  13,  301, 1926,  171],\n",
       "       [ 101,  193,  573, 3362]])"
      ]
     },
     "execution_count": 57,
     "metadata": {},
     "output_type": "execute_result"
    }
   ],
   "source": [
    "cm"
   ]
  },
  {
   "cell_type": "code",
   "execution_count": 58,
   "metadata": {},
   "outputs": [
    {
     "data": {
      "text/plain": [
       "0.5463538722442057"
      ]
     },
     "execution_count": 58,
     "metadata": {},
     "output_type": "execute_result"
    }
   ],
   "source": [
    "accuracy_score(y, y_pred)"
   ]
  },
  {
   "cell_type": "code",
   "execution_count": null,
   "metadata": {},
   "outputs": [],
   "source": []
  },
  {
   "cell_type": "code",
   "execution_count": null,
   "metadata": {},
   "outputs": [],
   "source": []
  }
 ],
 "metadata": {
  "kernelspec": {
   "display_name": "Python 3",
   "language": "python",
   "name": "python3"
  },
  "language_info": {
   "codemirror_mode": {
    "name": "ipython",
    "version": 3
   },
   "file_extension": ".py",
   "mimetype": "text/x-python",
   "name": "python",
   "nbconvert_exporter": "python",
   "pygments_lexer": "ipython3",
   "version": "3.7.0"
  }
 },
 "nbformat": 4,
 "nbformat_minor": 2
}
